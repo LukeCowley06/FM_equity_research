{
 "cells": [
  {
   "cell_type": "code",
   "execution_count": null,
   "id": "c66189c9",
   "metadata": {},
   "outputs": [
    {
     "name": "stdout",
     "output_type": "stream",
     "text": [
      "Chosen Stock: VEA.AX \n",
      "Last Share Price: 1.65 \n",
      "Total Assets: 10603800000.0\n"
     ]
    }
   ],
   "source": [
    "# Import libraries and functions\n",
    "\n",
    "# Importing necessary libraries\n",
    "import yfinance as yf\n",
    "import pandas as pd\n",
    "\n",
    "# Importing functions created in the \"Financial_Ratios_Metrics.py\" file\n",
    "from Financial_Ratios_Metrics import (calculate_net_profit_margin, calculate_eps, calculate_pe_ratio, \n",
    "                                      calculate_dividends_per_share, calculate_dividend_payout_ratio, \n",
    "                                      calculate_roe, calculate_roa, calculate_roic, \n",
    "                                      calculate_interest_burden_ratio, calculate_interest_coverage_ratio, \n",
    "                                      calculate_leverage_ratio, calculate_asset_turnover_ratio, \n",
    "                                      calculate_fixed_asset_turnover_ratio, calculate_inventory_turnover_ratio, \n",
    "                                      calculate_receivables_turnover_ratio, calculate_payables_turnover_ratio, \n",
    "                                      calculate_cash_conversion_cycle, calculate_current_ratio, \n",
    "                                      calculate_quick_ratio, calculate_cash_ratio, calculate_gross_profit_margin, \n",
    "                                      calculate_ebitda_margin, calculate_ebit_margin)"
   ]
  },
  {
   "cell_type": "code",
   "execution_count": null,
   "id": "c73cbcd9",
   "metadata": {},
   "outputs": [],
   "source": [
    "# Download the stock data\n",
    "\n",
    "# Define the ticker for Viva Energy Group Ltd\n",
    "# (ASX: VEA)\n",
    "TICKER = \"VEA.AX\"\n",
    "\n",
    "try:\n",
    "    # Get stock information\n",
    "    stock = yf.Ticker(TICKER)\n",
    "    stock_prices = stock.history(period=\"10y\")\n",
    "    stock_info = stock.info\n",
    "    stock_financials = stock.financials\n",
    "    stock_balance_sheet = stock.balance_sheet\n",
    "\n",
    "# Filter the data for FY21 to FY24\n",
    "    financials_filtered = stock_financials.loc[[\"Total Revenue\", \"EBITDA\", \"EBIT\", \"Net Income\", \"Free Cash Flow\"], \"2021\":\"2024\"]\n",
    "    balance_sheet_filtered = stock_balance_sheet.loc[[\"Total Assets\", \"Total Stockholder Equity\"], \"2021\":\"2024\"]\n",
    "\n",
    " # Extract relevant information\n",
    "    last_price = stock_prices['Close'].iloc[-1]\n",
    "    earnings = stock_financials.loc[\"Net Income\"].iloc[0]\n",
    "    dividend = stock_info['lastDividendValue']\n",
    "    shares_outstanding = stock_info['sharesOutstanding']\n",
    "    total_assets = (stock_balance_sheet.loc[\"Total Assets\"].iloc[0] + stock_balance_sheet.loc[\"Total Assets\"].iloc[1]) / 2\n",
    "\n",
    "\n",
    "    print(f\"Chosen Stock: {TICKER} \\nLast Share Price: {last_price:.2f} \\nTotal Assets: {total_assets}\")\n",
    "      \n",
    "except Exception as e:\n",
    "    print(f\"An error occurred: {e}\")"
   ]
  },
  {
   "cell_type": "code",
   "execution_count": null,
   "id": "5d0d91f8",
   "metadata": {
    "vscode": {
     "languageId": "r"
    }
   },
   "outputs": [],
   "source": [
    "\n",
    "# Calculate financial ratios and metrics using functions from Financial_Ratios_Metrics.py\n",
    "\n",
    "# Creating a dictionary with ratio names as keys and their functions as values (to calculate key ratios using imported functions)\n",
    "ratios = {\n",
    "    \"Net Profit Margin\": calculate_net_profit_margin(net_income, revenue),\n",
    "    \"EPS\": calculate_eps(net_income, shares_outstanding),\n",
    "    \"P/E Ratio\": calculate_pe_ratio(last_price, eps),\n",
    "    \"DPS\": calculate_dividends_per_share(dividends_paid, shares_outstanding),\n",
    "    \"DPR\": calculate_dividend_payout_ratio(dividends_paid, net_income),\n",
    "    \"ROE\": calculate_roe(net_income, total_equity),\n",
    "    \"ROA\": calculate_roa(net_income, total_assets),\n",
    "    \"ROIC\": calculate_roic(net_income, invested_capital),\n",
    "    \"Interest Burden\": calculate_interest_burden_ratio(ebit, interest_expense),\n",
    "    \"Interest Coverage\": calculate_interest_coverage_ratio(ebit, interest_expense),\n",
    "    \"Leverage\": calculate_leverage_ratio(total_assets, total_equity),\n",
    "    \"Asset Turnover\": calculate_asset_turnover_ratio(revenue, total_assets),\n",
    "    \"Fixed Asset Turnover\": calculate_fixed_asset_turnover_ratio(revenue, net_fixed_assets),\n",
    "    \"Inventory Turnover\": calculate_inventory_turnover_ratio(cost_of_goods_sold, average_inventory),\n",
    "    \"Receivables Turnover\": calculate_receivables_turnover_ratio(revenue, average_accounts_receivable),\n",
    "    \"Payables Turnover\": calculate_payables_turnover_ratio(cost_of_goods_sold, average_accounts_payable),\n",
    "    \"Cash Conversion Cycle\": calculate_cash_conversion_cycle(inventory_days, receivables_days, payables_days),\n",
    "    \"Current Ratio\": calculate_current_ratio(current_assets, current_liabilities),\n",
    "    \"Quick Ratio\": calculate_quick_ratio(current_assets, current_liabilities, inventory),\n",
    "    \"Cash Ratio\": calculate_cash_ratio(cash_and_cash_equivalents, current_liabilities),\n",
    "    \"Gross Profit Margin\": calculate_gross_profit_margin(gross_profit, revenue),\n",
    "    \"EBITDA Margin\": calculate_ebitda_margin(ebitda, revenue),\n",
    "    \"EBIT Margin\": calculate_ebit_margin(ebit, revenue)\n",
    "}\n",
    "\n",
    "# Loop through the dictionary and print each ratio with its value\n",
    "for ratio_name, ratio_value in ratios.items():\n",
    "    # Format ratios with both real numbers and percentages to two decimal places\n",
    "    print(f\"{ratio_name}: {ratio_value:.2f}\" if isinstance(ratio_value, float) else f\"{ratio_name}: {ratio_value:.2%}\")"
   ]
  },
  {
   "cell_type": "code",
   "execution_count": null,
   "id": "18964b9a",
   "metadata": {
    "vscode": {
     "languageId": "r"
    }
   },
   "outputs": [],
   "source": [
    "# Create the \"Financial Summary\" table\n",
    "# NOTE: May need to adjust the date ranges to ensure they align with the fiscal years FY21-24\n",
    "\n",
    "# Creating the \"Financial Summary\" table using imported functions \n",
    "financial_summary_data = {\n",
    "    \"Revenue\": stock_financials.loc[\"Total Revenue\"].iloc[0:4],  \n",
    "    \"EBITDA\": stock_financials.loc[\"EBITDA\"].iloc[0:4], \n",
    "    \"EBIT\": stock_financials.loc[\"EBIT\"].iloc[0:4],  \n",
    "    \"Net Profit\": stock_financials.loc[\"Net Income\"].iloc[0:4],  \n",
    "    \"Profit Margin\": calculate_net_profit_margin(stock_financials.loc[\"Net Income\"].iloc[0:4], \n",
    "                                                 stock_financials.loc[\"Total Revenue\"].iloc[0:4]),\n",
    "    \"Free Cash Flow\": stock_financials.loc[\"Free Cash Flow\"].iloc[0:4],  \n",
    "    \"EPS\": stock_financials.loc[\"EPS\"].iloc[0:4], \n",
    "    \"DPS\": stock_financials.loc[\"Dividends Paid\"].iloc[0:4] / stock_info[\"sharesOutstanding\"], \n",
    "    \"DPR\": calculate_dividend_payout_ratio(stock_financials.loc[\"Dividends Paid\"].iloc[0:4], \n",
    "                                            stock_financials.loc[\"Net Income\"].iloc[0:4]),\n",
    "    \"ROE\": calculate_roe(stock_financials.loc[\"Net Income\"].iloc[0:4], stock_balance_sheet.loc[\"Total Stockholder Equity\"].iloc[0:4]),\n",
    "    \"ROA\": calculate_roa(stock_financials.loc[\"Net Income\"].iloc[0:4], stock_balance_sheet.loc[\"Total Assets\"].iloc[0:4]),\n",
    "    \"ROIC\": calculate_roic(stock_financials.loc[\"Net Income\"].iloc[0:4], stock_balance_sheet.loc[\"Invested Capital\"].iloc[0:4])  \n",
    "}\n",
    "\n",
    "# Creating the DataFrame\n",
    "financial_summary_df = pd.DataFrame(financial_summary_data, index=[\"FY21\", \"FY22\", \"FY23\", \"FY24\"])\n",
    "\n",
    "# Displaying the \"Financial Summary\" table\n",
    "print(\"Financial Summary:\")\n",
    "print(financial_summary_df)"
   ]
  },
  {
   "cell_type": "code",
   "execution_count": null,
   "id": "5acaf0db",
   "metadata": {
    "vscode": {
     "languageId": "r"
    }
   },
   "outputs": [],
   "source": [
    "# Create the \"Ratio Analysis\" table\n",
    "# NOTE: May need to adjust the date ranges to ensure they align with the fiscal years FY21-24\n",
    "\n",
    "# Creating the \"Ratio Analysis\" table using imported functions \n",
    "ratio_analysis_data = {\n",
    "    # Leverage Ratios\n",
    "    \"Interest Burden\": calculate_interest_burden_ratio(stock_financials.loc[\"EBIT\"].iloc[0:4], stock_financials.loc[\"Interest Expense\"].iloc[0:4]),\n",
    "    \"Interest Coverage\": calculate_interest_coverage_ratio(stock_financials.loc[\"EBIT\"].iloc[0:4], stock_financials.loc[\"Interest Expense\"].iloc[0:4]),\n",
    "    \"Leverage\": calculate_leverage_ratio(stock_balance_sheet.loc[\"Total Assets\"].iloc[0:4], stock_balance_sheet.loc[\"Total Equity\"].iloc[0:4]),\n",
    "\n",
    "    # Asset Utilisation Ratios\n",
    "    \"Total Asset Turnover\": calculate_asset_turnover_ratio(stock_financials.loc[\"Total Revenue\"].iloc[0:4], stock_balance_sheet.loc[\"Total Assets\"].iloc[0:4]),\n",
    "    \"Fixed Asset Turnover\": calculate_fixed_asset_turnover_ratio(stock_financials.loc[\"Total Revenue\"].iloc[0:4], stock_balance_sheet.loc[\"Net Fixed Assets\"].iloc[0:4]),\n",
    "    \"Inventory Turnover\": calculate_inventory_turnover_ratio(stock_financials.loc[\"Cost of Goods Sold\"].iloc[0:4], stock_balance_sheet.loc[\"Inventory\"].iloc[0:4]),\n",
    "    \"Receivables Turnover\": calculate_receivables_turnover_ratio(stock_financials.loc[\"Total Revenue\"].iloc[0:4], stock_balance_sheet.loc[\"Accounts Receivable\"].iloc[0:4]),\n",
    "    \"Payables Turnover\": calculate_payables_turnover_ratio(stock_financials.loc[\"Cost of Goods Sold\"].iloc[0:4], stock_balance_sheet.loc[\"Accounts Payable\"].iloc[0:4]),\n",
    "    \"Cash Conversion Cycle\": calculate_cash_conversion_cycle(stock_balance_sheet.loc[\"Inventory Days\"].iloc[0:4], stock_balance_sheet.loc[\"Receivables Days\"].iloc[0:4], stock_balance_sheet.loc[\"Payables Days\"].iloc[0:4]),\n",
    "\n",
    "    # Liquidity Ratios\n",
    "    \"Current Ratio\": calculate_current_ratio(stock_balance_sheet.loc[\"Current Assets\"].iloc[0:4], stock_balance_sheet.loc[\"Current Liabilities\"].iloc[0:4]),\n",
    "    \"Quick Ratio\": calculate_quick_ratio(stock_balance_sheet.loc[\"Current Assets\"].iloc[0:4], stock_balance_sheet.loc[\"Current Liabilities\"].iloc[0:4], stock_balance_sheet.loc[\"Inventory\"].iloc[0:4]),\n",
    "    \"Cash Ratio\": calculate_cash_ratio(stock_balance_sheet.loc[\"Cash and Cash Equivalents\"].iloc[0:4], stock_balance_sheet.loc[\"Current Liabilities\"].iloc[0:4]),\n",
    "\n",
    "    # Profitability Ratios\n",
    "    \"Return on Assets (ROA)\": calculate_roa(stock_financials.loc[\"Net Income\"].iloc[0:4], stock_balance_sheet.loc[\"Total Assets\"].iloc[0:4]),\n",
    "    \"Return on Equity (ROE)\": calculate_roe(stock_financials.loc[\"Net Income\"].iloc[0:4], stock_balance_sheet.loc[\"Total Stockholder Equity\"].iloc[0:4]),\n",
    "    \"Return on Invested Capital (ROIC)\": calculate_roic(stock_financials.loc[\"Net Income\"].iloc[0:4], stock_balance_sheet.loc[\"Invested Capital\"].iloc[0:4]),\n",
    "\n",
    "    # Margin Ratios\n",
    "    \"Gross Profit Margin\": calculate_gross_profit_margin(stock_financials.loc[\"Gross Profit\"].iloc[0:4], stock_financials.loc[\"Total Revenue\"].iloc[0:4]),\n",
    "    \"EBITDA Margin\": calculate_ebitda_margin(stock_financials.loc[\"EBITDA\"].iloc[0:4], stock_financials.loc[\"Total Revenue\"].iloc[0:4]),\n",
    "    \"EBIT Margin\": calculate_ebit_margin(stock_financials.loc[\"EBIT\"].iloc[0:4], stock_financials.loc[\"Total Revenue\"].iloc[0:4]),\n",
    "    \"Net Profit Margin\": calculate_net_profit_margin(stock_financials.loc[\"Net Income\"].iloc[0:4], stock_financials.loc[\"Total Revenue\"].iloc[0:4])\n",
    "}\n",
    "\n",
    "# Create the DataFrame\n",
    "ratio_analysis_df = pd.DataFrame(ratio_analysis_data, index=[\"FY21\", \"FY22\", \"FY23\", \"FY24\"])\n",
    "\n",
    "# Display the \"Ratio Analysis\" table\n",
    "print(\"Ratio Analysis - Viva Energy Group Ltd (ASX: VEA):\")\n",
    "print(ratio_analysis_df)\n"
   ]
  }
 ],
 "metadata": {
  "kernelspec": {
   "display_name": "Python 3",
   "language": "python",
   "name": "python3"
  },
  "language_info": {
   "codemirror_mode": {
    "name": "ipython",
    "version": 3
   },
   "file_extension": ".py",
   "mimetype": "text/x-python",
   "name": "python",
   "nbconvert_exporter": "python",
   "pygments_lexer": "ipython3",
   "version": "3.12.1"
  }
 },
 "nbformat": 4,
 "nbformat_minor": 5
}
