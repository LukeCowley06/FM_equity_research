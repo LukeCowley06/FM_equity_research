{
 "cells": [
  {
   "cell_type": "code",
   "execution_count": null,
   "id": "c66189c9",
   "metadata": {},
   "outputs": [
    {
     "name": "stdout",
     "output_type": "stream",
     "text": [
      "Chosen Stock: VEA.AX \n",
      "Last Share Price: 1.65 \n",
      "Total Assets: 10603800000.0\n"
     ]
    }
   ],
   "source": [
    "# I would assume you need to import VIVA data from yfinance to then call the Financial_Rations_Metrics.py \n",
    "# functions to calculate the metrics and table them?\n",
    "\n",
    "# Note this is no where near complete this is just an example.\n",
    "\n",
    "import yfinance as yf\n",
    "\n",
    "# Our ticker Viva Energy\n",
    "TICKER = \"VEA.AX\"\n",
    "\n",
    "try:\n",
    "    # Get stock information\n",
    "    stock = yf.Ticker(TICKER)\n",
    "    stock_prices = stock.history(period=\"10y\")\n",
    "    stock_info = stock.info\n",
    "    stock_financials = stock.financials\n",
    "    stock_balance_sheet = stock.balance_sheet\n",
    "\n",
    "    # Extract relevant information\n",
    "    last_price = stock_prices['Close'].iloc[-1]\n",
    "    earnings = stock_financials.loc[\"Net Income\"].iloc[0]\n",
    "    dividend = stock_info['lastDividendValue']\n",
    "    shares_outstanding = stock_info['sharesOutstanding']\n",
    "    total_assets = (stock_balance_sheet.loc[\"Total Assets\"].iloc[0] + stock_balance_sheet.loc[\"Total Assets\"].iloc[1]) / 2\n",
    "\n",
    "    print(f\"Chosen Stock: {TICKER} \\nLast Share Price: {last_price:.2f} \\nTotal Assets: {total_assets}\")\n",
    "      \n",
    "except Exception as e:\n",
    "    print(f\"An error occurred: {e}\")\n",
    "\n"
   ]
  }
 ],
 "metadata": {
  "kernelspec": {
   "display_name": "Python 3",
   "language": "python",
   "name": "python3"
  },
  "language_info": {
   "codemirror_mode": {
    "name": "ipython",
    "version": 3
   },
   "file_extension": ".py",
   "mimetype": "text/x-python",
   "name": "python",
   "nbconvert_exporter": "python",
   "pygments_lexer": "ipython3",
   "version": "3.12.1"
  }
 },
 "nbformat": 4,
 "nbformat_minor": 5
}
