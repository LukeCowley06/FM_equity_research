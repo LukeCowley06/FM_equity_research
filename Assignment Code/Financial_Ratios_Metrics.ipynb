{
 "cells": [
  {
   "cell_type": "code",
   "execution_count": null,
   "id": "c66189c9",
   "metadata": {},
   "outputs": [
    {
     "name": "stdout",
     "output_type": "stream",
     "text": [
      "Chosen Stock: VEA.AX \n",
      "Last Share Price: 1.65 \n",
      "Total Assets: 10603800000.0\n"
     ]
    }
   ],
   "source": [
    "# Import libraries and functions\n",
    "\n",
    "# Importing necessary libraries\n",
    "import yfinance as yf\n",
    "import pandas as pd\n",
    "\n",
    "# Importing functions created in the \"Financial_Ratios_Metrics.py\" file\n",
    "from Financial_Ratios_Metrics import (calculate_profit_margin, calculate_eps, calculate_dividends_per_share, \n",
    "                                      calculate_dividend_payout_ratio, calculate_roe, calculate_roa, calculate_roic, \n",
    "                                      calculate_interest_burden_ratio, calculate_interest_coverage_ratio, calculate_leverage_ratio,\n",
    "                                      calculate_asset_turnover_ratio, calculate_fixed_asset_turnover_ratio, \n",
    "                                      calculate_inventory_turnover_ratio, calculate_receivables_turnover_ratio,\n",
    "                                      calculate_payables_turnover_ratio, calculate_cash_conversion_cycle,\n",
    "                                      calculate_current_ratio, calculate_quick_ratio, calculate_cash_ratio,\n",
    "                                      calculate_market_to_book_ratio, calculate_pe_ratio, calculate_earnings_yield)\n",
    "\n",
    "\n",
    "\n",
    "\n"
   ]
  },
  {
   "cell_type": "code",
   "execution_count": null,
   "id": "c73cbcd9",
   "metadata": {},
   "outputs": [],
   "source": [
    "# Download the stock data\n",
    "\n",
    "# Define the ticker for Viva Energy Group Limited\n",
    "TICKER = \"VEA.AX\"\n",
    "\n",
    "try:\n",
    "    # Get stock information\n",
    "    stock = yf.Ticker(TICKER)\n",
    "    stock_prices = stock.history(period=\"10y\")\n",
    "    stock_info = stock.info\n",
    "    stock_financials = stock.financials\n",
    "    stock_balance_sheet = stock.balance_sheet\n",
    "\n",
    "    # Extract relevant information\n",
    "    last_price = stock_prices['Close'].iloc[-1]\n",
    "    earnings = stock_financials.loc[\"Net Income\"].iloc[0]\n",
    "    dividend = stock_info['lastDividendValue']\n",
    "    shares_outstanding = stock_info['sharesOutstanding']\n",
    "    total_assets = (stock_balance_sheet.loc[\"Total Assets\"].iloc[0] + stock_balance_sheet.loc[\"Total Assets\"].iloc[1]) / 2\n",
    "\n",
    "    print(f\"Chosen Stock: {TICKER} \\nLast Share Price: {last_price:.2f} \\nTotal Assets: {total_assets}\")\n",
    "      \n",
    "except Exception as e:\n",
    "    print(f\"An error occurred: {e}\")"
   ]
  },
  {
   "cell_type": "code",
   "execution_count": null,
   "id": "5d0d91f8",
   "metadata": {
    "vscode": {
     "languageId": "r"
    }
   },
   "outputs": [],
   "source": [
    "# Calculate financial ratios and metrics using functions from Financial_Ratios_Metrics.py\n",
    "\n",
    "# Creating a dictionary with ratio names as keys and their respective functions as values (to calculate key ratios using imported functions)\n",
    "ratios = {\n",
    "    \"Profit Margin\": calculate_profit_margin(net_income, revenue),\n",
    "    \"EPS\": calculate_eps(net_income, shares_outstanding),\n",
    "    \"DPS\": calculate_dividends_per_share(dividends_paid, shares_outstanding),\n",
    "    \"DPR\": calculate_dividend_payout_ratio(dividends_paid, net_income),\n",
    "    \"ROE\": calculate_roe(net_income, total_equity),\n",
    "    \"ROA\": calculate_roa(net_income, total_assets),\n",
    "    \"ROIC\": calculate_roic(net_income, invested_capital),\n",
    "    \"Interest Burden\": calculate_interest_burden_ratio(ebt, ebit),\n",
    "    \"Interest Coverage\": calculate_interest_coverage_ratio(ebit, interest_expense),\n",
    "    \"Leverage\": calculate_leverage_ratio(total_assets, total_equity),\n",
    "    \"Asset Turnover\": calculate_asset_turnover_ratio(revenue, total_assets),\n",
    "    \"Fixed Asset Turnover\": calculate_fixed_asset_turnover_ratio(revenue, net_fixed_assets),\n",
    "    \"Inventory Turnover\": calculate_inventory_turnover_ratio(cost_of_goods_sold, average_inventory),\n",
    "    \"Receivables Turnover\": calculate_receivables_turnover_ratio(revenue, average_receivables),\n",
    "    \"Payables Turnover\": calculate_payables_turnover_ratio(cost_of_goods_sold, average_payables),\n",
    "    \"Cash Conversion Cycle\": calculate_cash_conversion_cycle(average_inventory, average_receivables, average_payables),\n",
    "    \"Current Ratio\": calculate_current_ratio(current_assets, current_liabilities),\n",
    "    \"Quick Ratio\": calculate_quick_ratio(current_assets, inventory, current_liabilities),\n",
    "    \"Cash Ratio\": calculate_cash_ratio(cash, current_liabilities),\n",
    "    \"Market-to-Book Ratio\": calculate_market_to_book_ratio(market_cap, total_equity),\n",
    "    \"P/E Ratio\": calculate_pe_ratio(last_price, eps),\n",
    "    \"Earnings Yield\": calculate_earnings_yield(eps, last_price)\n",
    "}\n",
    "\n",
    "# Loop through the dictionary and print each ratio with its value\n",
    "for ratio_name, ratio_value in ratios.items():\n",
    "    # Format ratios with both real numbers and percentages to two decimal places\n",
    "    print(f\"{ratio_name}: {ratio_value:.2f}\" if isinstance(ratio_value, float) else f\"{ratio_name}: {ratio_value:.2%}\")\n"
   ]
  }
 ],
 "metadata": {
  "kernelspec": {
   "display_name": "Python 3",
   "language": "python",
   "name": "python3"
  },
  "language_info": {
   "codemirror_mode": {
    "name": "ipython",
    "version": 3
   },
   "file_extension": ".py",
   "mimetype": "text/x-python",
   "name": "python",
   "nbconvert_exporter": "python",
   "pygments_lexer": "ipython3",
   "version": "3.12.1"
  }
 },
 "nbformat": 4,
 "nbformat_minor": 5
}
