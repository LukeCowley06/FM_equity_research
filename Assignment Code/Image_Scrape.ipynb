{
 "cells": [
  {
   "cell_type": "code",
   "execution_count": 5,
   "id": "5cbaa586",
   "metadata": {},
   "outputs": [
    {
     "name": "stdout",
     "output_type": "stream",
     "text": [
      "SVG logo downloaded successfully to: Image_Scrape/viva_energy_logo.svg\n",
      "SVG converted to PNG successfully at: Image_Scrape/viva_energy_logo_converted.png\n"
     ]
    }
   ],
   "source": [
    "\n",
    "# Required Libraries\n",
    "import requests\n",
    "import os\n",
    "import cairosvg  # <-- Add this to handle conversion\n",
    "\n",
    "# --- Download SVG Image ---\n",
    "logo_url = \"https://www.vivaenergy.com.au/images/UserUploadedImages/11/viva-logo.svg\"  # Correct clean Viva Energy SVG\n",
    "svg_path = \"Image_Scrape/viva_energy_logo.svg\"  # Save path for SVG\n",
    "png_path = \"Image_Scrape/viva_energy_logo_converted.png\"  # Save path for PNG\n",
    "\n",
    "# Make sure Image_Scrape folder exists\n",
    "os.makedirs(os.path.dirname(svg_path), exist_ok=True)\n",
    "\n",
    "# Download SVG logo\n",
    "response = requests.get(logo_url)\n",
    "with open(svg_path, \"wb\") as f:\n",
    "    f.write(response.content)\n",
    "\n",
    "print(\"SVG logo downloaded successfully to:\", svg_path)\n",
    "\n",
    "# --- Convert SVG to PNG ---\n",
    "cairosvg.svg2png(url=svg_path, write_to=png_path)\n",
    "\n",
    "print(\"SVG converted to PNG successfully at:\", png_path)\n",
    "\n",
    "\n"
   ]
  }
 ],
 "metadata": {
  "kernelspec": {
   "display_name": "Python 3",
   "language": "python",
   "name": "python3"
  },
  "language_info": {
   "codemirror_mode": {
    "name": "ipython",
    "version": 3
   },
   "file_extension": ".py",
   "mimetype": "text/x-python",
   "name": "python",
   "nbconvert_exporter": "python",
   "pygments_lexer": "ipython3",
   "version": "3.12.1"
  }
 },
 "nbformat": 4,
 "nbformat_minor": 5
}
