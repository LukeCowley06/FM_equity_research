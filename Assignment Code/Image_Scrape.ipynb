{
 "cells": [
  {
   "cell_type": "code",
   "execution_count": 4,
   "id": "5a1e98c1",
   "metadata": {},
   "outputs": [
    {
     "name": "stdout",
     "output_type": "stream",
     "text": [
      "Requirement already satisfied: requests in /home/codespace/.local/lib/python3.12/site-packages (2.32.3)\n",
      "Requirement already satisfied: charset-normalizer<4,>=2 in /home/codespace/.local/lib/python3.12/site-packages (from requests) (3.4.1)\n",
      "Requirement already satisfied: idna<4,>=2.5 in /home/codespace/.local/lib/python3.12/site-packages (from requests) (3.10)\n",
      "Requirement already satisfied: urllib3<3,>=1.21.1 in /home/codespace/.local/lib/python3.12/site-packages (from requests) (2.4.0)\n",
      "Requirement already satisfied: certifi>=2017.4.17 in /home/codespace/.local/lib/python3.12/site-packages (from requests) (2025.1.31)\n",
      "\n",
      "\u001b[1m[\u001b[0m\u001b[34;49mnotice\u001b[0m\u001b[1;39;49m]\u001b[0m\u001b[39;49m A new release of pip is available: \u001b[0m\u001b[31;49m25.0.1\u001b[0m\u001b[39;49m -> \u001b[0m\u001b[32;49m25.1\u001b[0m\n",
      "\u001b[1m[\u001b[0m\u001b[34;49mnotice\u001b[0m\u001b[1;39;49m]\u001b[0m\u001b[39;49m To update, run: \u001b[0m\u001b[32;49mpython3 -m pip install --upgrade pip\u001b[0m\n",
      "\u001b[31mERROR: Could not find a version that satisfies the requirement os (from versions: none)\u001b[0m\u001b[31m\n",
      "\u001b[0m\n",
      "\u001b[1m[\u001b[0m\u001b[34;49mnotice\u001b[0m\u001b[1;39;49m]\u001b[0m\u001b[39;49m A new release of pip is available: \u001b[0m\u001b[31;49m25.0.1\u001b[0m\u001b[39;49m -> \u001b[0m\u001b[32;49m25.1\u001b[0m\n",
      "\u001b[1m[\u001b[0m\u001b[34;49mnotice\u001b[0m\u001b[1;39;49m]\u001b[0m\u001b[39;49m To update, run: \u001b[0m\u001b[32;49mpython3 -m pip install --upgrade pip\u001b[0m\n",
      "\u001b[31mERROR: No matching distribution found for os\u001b[0m\u001b[31m\n",
      "\u001b[0mRequirement already satisfied: cairosvg in /usr/local/python/3.12.1/lib/python3.12/site-packages (2.7.1)\n",
      "Requirement already satisfied: cairocffi in /usr/local/python/3.12.1/lib/python3.12/site-packages (from cairosvg) (1.7.1)\n",
      "Requirement already satisfied: cssselect2 in /usr/local/python/3.12.1/lib/python3.12/site-packages (from cairosvg) (0.8.0)\n",
      "Requirement already satisfied: defusedxml in /home/codespace/.local/lib/python3.12/site-packages (from cairosvg) (0.7.1)\n",
      "Requirement already satisfied: pillow in /home/codespace/.local/lib/python3.12/site-packages (from cairosvg) (11.2.1)\n",
      "Requirement already satisfied: tinycss2 in /home/codespace/.local/lib/python3.12/site-packages (from cairosvg) (1.4.0)\n",
      "Requirement already satisfied: cffi>=1.1.0 in /home/codespace/.local/lib/python3.12/site-packages (from cairocffi->cairosvg) (1.17.1)\n",
      "Requirement already satisfied: webencodings in /home/codespace/.local/lib/python3.12/site-packages (from cssselect2->cairosvg) (0.5.1)\n",
      "Requirement already satisfied: pycparser in /home/codespace/.local/lib/python3.12/site-packages (from cffi>=1.1.0->cairocffi->cairosvg) (2.22)\n",
      "\n",
      "\u001b[1m[\u001b[0m\u001b[34;49mnotice\u001b[0m\u001b[1;39;49m]\u001b[0m\u001b[39;49m A new release of pip is available: \u001b[0m\u001b[31;49m25.0.1\u001b[0m\u001b[39;49m -> \u001b[0m\u001b[32;49m25.1\u001b[0m\n",
      "\u001b[1m[\u001b[0m\u001b[34;49mnotice\u001b[0m\u001b[1;39;49m]\u001b[0m\u001b[39;49m To update, run: \u001b[0m\u001b[32;49mpython3 -m pip install --upgrade pip\u001b[0m\n"
     ]
    }
   ],
   "source": [
    "# Install necessary libraries\n",
    "!pip install requests\n",
    "!pip install os\n",
    "!pip install cairosvg"
   ]
  },
  {
   "cell_type": "code",
   "execution_count": 6,
   "id": "5cbaa586",
   "metadata": {},
   "outputs": [
    {
     "name": "stdout",
     "output_type": "stream",
     "text": [
      "SVG logo downloaded successfully to: Image_Scrape/viva_energy_logo.svg\n",
      "SVG converted to PNG successfully at: Image_Scrape/viva_energy_logo_converted.png\n"
     ]
    }
   ],
   "source": [
    "# Required Libraries\n",
    "import requests\n",
    "import os\n",
    "import cairosvg\n",
    "\n",
    "# Download SVG Image\n",
    "logo_url = \"https://www.vivaenergy.com.au/images/UserUploadedImages/11/viva-logo.svg\"  # Correct clean Viva Energy SVG\n",
    "svg_path = \"Image_Scrape/viva_energy_logo.svg\"  # Save path for SVG\n",
    "png_path = \"Image_Scrape/viva_energy_logo_converted.png\"  # Save path for PNG\n",
    "\n",
    "# Make sure Image_Scrape folder exists\n",
    "os.makedirs(os.path.dirname(svg_path), exist_ok=True)\n",
    "\n",
    "# Download SVG logo\n",
    "response = requests.get(logo_url)\n",
    "with open(svg_path, \"wb\") as f:\n",
    "    f.write(response.content)\n",
    "\n",
    "print(\"SVG logo downloaded successfully to:\", svg_path)\n",
    "\n",
    "# Convert SVG to PNG\n",
    "cairosvg.svg2png(url=svg_path, write_to=png_path)\n",
    "\n",
    "print(\"SVG converted to PNG successfully at:\", png_path)\n"
   ]
  }
 ],
 "metadata": {
  "kernelspec": {
   "display_name": "Python 3",
   "language": "python",
   "name": "python3"
  },
  "language_info": {
   "codemirror_mode": {
    "name": "ipython",
    "version": 3
   },
   "file_extension": ".py",
   "mimetype": "text/x-python",
   "name": "python",
   "nbconvert_exporter": "python",
   "pygments_lexer": "ipython3",
   "version": "3.12.1"
  }
 },
 "nbformat": 4,
 "nbformat_minor": 5
}
