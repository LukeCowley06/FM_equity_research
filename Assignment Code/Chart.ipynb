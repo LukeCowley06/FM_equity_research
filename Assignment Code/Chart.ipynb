{
 "cells": [
  {
   "cell_type": "code",
   "execution_count": null,
   "id": "8f9e680d",
   "metadata": {},
   "outputs": [],
   "source": [
    "# @ZachNathan need to add csv file into the doc. Make sure you have price history for the stock, \n",
    "# historical price targets of the research (taken from a CSV file), and the history of the ASX200\n"
   ]
  }
 ],
 "metadata": {
  "language_info": {
   "name": "python"
  }
 },
 "nbformat": 4,
 "nbformat_minor": 5
}
