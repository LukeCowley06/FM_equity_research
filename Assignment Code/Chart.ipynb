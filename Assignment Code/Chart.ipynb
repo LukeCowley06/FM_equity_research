{
 "cells": [
  {
   "cell_type": "code",
   "execution_count": null,
   "id": "8f9e680d",
   "metadata": {},
   "outputs": [],
   "source": [
    "# @ZachNathan need to add csv file into the doc. Make sure you have price history for the stock, \n",
    "# historical price targets of the research (taken from a CSV file), and the history of the ASX200\n"
   ]
  },
  {
   "cell_type": "code",
   "execution_count": null,
   "id": "e2fbbb20",
   "metadata": {},
   "outputs": [],
   "source": [
    "!pip install pandas\n",
    "!pip install yfinance\n",
    "!pip install matplotlib"
   ]
  },
  {
   "cell_type": "code",
   "execution_count": null,
   "id": "0f5e7e3e",
   "metadata": {},
   "outputs": [],
   "source": [
    "import pandas as pd\n",
    "import yfinance as yf\n",
    "import matplotlib.pyplot as plt\n",
    "import datetime as dt\n",
    "\n",
    "#Define necessary constants \n",
    "Tickers = ['VEA.AX', '^AXJO']\n",
    "Start_Date = '2023-05-09'\n",
    "End_Date = pd.Timestamp.today().strftime('%Y-%m-%d')\n",
    "\n",
    "#Download closing prices and align them\n",
    "Closing_Prices = yf.download(Tickers, start=Start_Date, end=End_Date, progress=False)['Close'].loc[Start_Date:]\n",
    "\n",
    "#Rebase the ASX200 Index to the first closing price of VEA\n",
    "Initial_Ratio = Closing_Prices['VEA.AX'].iloc[0] / Closing_Prices['^AXJO'].iloc[0]\n",
    "Closing_Prices['Rebased_ASX200'] = Closing_Prices['^AXJO'] * Initial_Ratio\n",
    "\n",
    "#Read and process price targets from CSV file\n",
    "Price_Targets = pd.read_csv(\"VEApricetargets.csv\", dtype={'Date': str})\n",
    "Price_Targets['Date'] = Price_Targets['Date'].apply(\n",
    "    lambda x: dt.datetime.strptime(x, '%m/%d/%Y')\n",
    "    if len(x.split('/')[-1]) == 4\n",
    "    else dt.datetime.strptime(x, '%m/%d/%Y')\n",
    ")\n",
    "\n",
    "Price_Targets = Price_Targets.sort_values('Date')\n",
    "Price_Targets = Price_Targets[\n",
    "    (Price_Targets['Date'] >= Closing_Prices.index[0]) &\n",
    "    (Price_Targets['Date' <= ClosingPrices.index[-1]])\n",
    "]\n",
    "\n",
    "#Plot historical closing prices and price targets \n",
    "plt.figure(figsize=(10,5))\n",
    "plt.plot(Closing_Prices.index, Closing_Prices['VEA.AX'], label='VEA', color='lightblue')\n",
    "plt.plot(Closing_Prices.index. Closing_Prices['Rebased_ASX200'], label='Rebased ASX200', color='darkgreen')\n",
    "plt.plot(Price_Targets['Date'], Price_Targets['Target Price'], label='Price Targets', color='navy')\n",
    "plt.title('VEA Price History vs Rebased ASX200 vs VEA Target Price')\n",
    "plt.xlabel('Date')\n",
    "plt.ylabel('Price (AUD)')\n",
    "plt.show()\n"
   ]
  }
 ],
 "metadata": {
  "kernelspec": {
   "display_name": "Python 3",
   "language": "python",
   "name": "python3"
  },
  "language_info": {
   "codemirror_mode": {
    "name": "ipython",
    "version": 3
   },
   "file_extension": ".py",
   "mimetype": "text/x-python",
   "name": "python",
   "nbconvert_exporter": "python",
   "pygments_lexer": "ipython3",
   "version": "3.12.1"
  }
 },
 "nbformat": 4,
 "nbformat_minor": 5
}
